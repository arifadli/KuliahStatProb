{
  "nbformat": 4,
  "nbformat_minor": 0,
  "metadata": {
    "colab": {
      "name": "Regresi Linier - Plot From Defined Data",
      "provenance": []
    },
    "kernelspec": {
      "name": "python3",
      "display_name": "Python 3"
    },
    "language_info": {
      "name": "python"
    }
  },
  "cells": [
    {
      "cell_type": "code",
      "execution_count": null,
      "metadata": {
        "id": "aOAUplYDDF91"
      },
      "outputs": [],
      "source": [
        "import numpy as np\n",
        "import pandas as pd\n",
        "from matplotlib import pyplot as plt\n",
        "from sklearn.linear_model import LinearRegression"
      ]
    },
    {
      "cell_type": "code",
      "source": [
        "df = pd.DataFrame([[151,63],[174,81],[138,56],[186,91],[128,47],[136,57],[179,76],[163,72],[152,62],[131,48]])\n",
        "df.columns = ['x', 'y']\n",
        "x_train = df['x'].values[:,np.newaxis]\n",
        "y_train = df['y'].values\n",
        "lm = LinearRegression()\n",
        "lm.fit(x_train,y_train) #fase training\n",
        "\n",
        "print('Coefficient : ' + str(lm.coef_))\n",
        "print('Intercept : ' + str(lm.intercept_) + '\\n')\n",
        "\n",
        "print('persamaan regresi = intercept + coef*x')\n",
        "print('persamaan regresi =' + str(lm.intercept_) + ' + ' + str(lm.coef_) + \"*X \" )\n",
        "\n",
        "x_test = [[170],[171]] #data yang akan diprediksi\n",
        "p = lm.predict(x_test) #fase prediksi\n",
        "print(p) #hasil prediksi"
      ],
      "metadata": {
        "colab": {
          "base_uri": "https://localhost:8080/"
        },
        "id": "7Mz4Fx0UDL0P",
        "outputId": "f359ea89-4cd2-4e0f-e092-2dc76faabeb1"
      },
      "execution_count": 22,
      "outputs": [
        {
          "output_type": "stream",
          "name": "stdout",
          "text": [
            "Coefficient : [0.67461045]\n",
            "Intercept : -38.45508707607701\n",
            "\n",
            "persamaan regresi = intercept + coef*x\n",
            "persamaan regresi =-38.45508707607701 + [0.67461045]*X \n",
            "[76.22868928 76.90329973]\n"
          ]
        }
      ]
    },
    {
      "cell_type": "code",
      "source": [
        "#prepare plot\n",
        "pb = lm.predict(x_train)\n",
        "dfc = pd.DataFrame({'x': df['x'],'y':pb})\n",
        "plt.scatter(df['x'],df['y'])\n",
        "plt.plot(dfc['x'],dfc['y'],color='red',linewidth=1)\n",
        "plt.xlabel('Tinggi dalam cm')\n",
        "plt.ylabel('Berat dalam Kg')\n",
        "plt.show()"
      ],
      "metadata": {
        "colab": {
          "base_uri": "https://localhost:8080/",
          "height": 279
        },
        "id": "PPm1ybNADPKo",
        "outputId": "bff52c6f-303c-441a-ea96-fbde49a4c884"
      },
      "execution_count": null,
      "outputs": [
        {
          "output_type": "display_data",
          "data": {
            "text/plain": [
              "<Figure size 432x288 with 1 Axes>"
            ],
            "image/png": "[encoded data removed]"
          },
          "metadata": {
            "needs_background": "light"
          }
        }
      ]
    },
    {
      "cell_type": "code",
      "source": [
        ""
      ],
      "metadata": {
        "id": "-mb4umluDPmd"
      },
      "execution_count": 8,
      "outputs": []
    },
    {
      "cell_type": "code",
      "source": [
        ""
      ],
      "metadata": {
        "id": "smPwO8xDfW3d"
      },
      "execution_count": null,
      "outputs": []
    }
  ]
}